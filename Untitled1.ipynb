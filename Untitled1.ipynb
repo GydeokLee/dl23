{
  "nbformat": 4,
  "nbformat_minor": 0,
  "metadata": {
    "colab": {
      "provenance": [],
      "authorship_tag": "ABX9TyP6uT5ygjP92jJ3W0+y7Go9",
      "include_colab_link": true
    },
    "kernelspec": {
      "name": "python3",
      "display_name": "Python 3"
    },
    "language_info": {
      "name": "python"
    }
  },
  "cells": [
    {
      "cell_type": "markdown",
      "metadata": {
        "id": "view-in-github",
        "colab_type": "text"
      },
      "source": [
        "<a href=\"https://colab.research.google.com/github/GydeokLee/dl23/blob/main/Untitled1.ipynb\" target=\"_parent\"><img src=\"https://colab.research.google.com/assets/colab-badge.svg\" alt=\"Open In Colab\"/></a>"
      ]
    },
    {
      "cell_type": "code",
      "execution_count": null,
      "metadata": {
        "id": "l8Fi8pDaRLn1"
      },
      "outputs": [],
      "source": []
    },
    {
      "cell_type": "markdown",
      "source": [
        "A string is a sequence of characters enclosed in single or double quotes.\n",
        "\n",
        "\n",
        "Integers are whole numbers, positive or negative, without any decimal points."
      ],
      "metadata": {
        "id": "72HrgC_SSWlk"
      }
    },
    {
      "cell_type": "code",
      "source": [
        "greeting = \"Hello students!\"\n",
        "year = 2023\n"
      ],
      "metadata": {
        "id": "gsyoVOO7TzdI"
      },
      "execution_count": 13,
      "outputs": []
    },
    {
      "cell_type": "code",
      "source": [
        "print(greeting)\n",
        "print(year)"
      ],
      "metadata": {
        "colab": {
          "base_uri": "https://localhost:8080/"
        },
        "id": "A_6G1K1vVQia",
        "outputId": "ece82f23-630f-4cdc-c2d0-06fbb7c3562f"
      },
      "execution_count": 14,
      "outputs": [
        {
          "output_type": "stream",
          "name": "stdout",
          "text": [
            "Hello students!\n",
            "2023\n"
          ]
        }
      ]
    },
    {
      "cell_type": "code",
      "source": [
        "message = greeting + \" \" + str(year)\n",
        "print(message)"
      ],
      "metadata": {
        "colab": {
          "base_uri": "https://localhost:8080/"
        },
        "id": "Q1dw6h1fU2s_",
        "outputId": "33b0db4e-e89f-439b-9d7e-e18ff7123a12"
      },
      "execution_count": 15,
      "outputs": [
        {
          "output_type": "stream",
          "name": "stdout",
          "text": [
            "Hello students! 2023\n"
          ]
        }
      ]
    },
    {
      "cell_type": "code",
      "source": [
        "num1 = 10\n",
        "num2 = 3\n",
        "\n",
        "\n",
        "\n",
        "print(num1 + num2)\n"
      ],
      "metadata": {
        "colab": {
          "base_uri": "https://localhost:8080/"
        },
        "id": "1t9vn-FrVq6c",
        "outputId": "6ab50fa2-532c-4b99-a4ef-cbf577b62bf9"
      },
      "execution_count": 19,
      "outputs": [
        {
          "output_type": "stream",
          "name": "stdout",
          "text": [
            "13\n"
          ]
        }
      ]
    },
    {
      "cell_type": "code",
      "source": [
        "num1 = 10\n",
        "num2 = 3\n",
        "\n",
        "\n",
        "print(num1 - num2)"
      ],
      "metadata": {
        "colab": {
          "base_uri": "https://localhost:8080/"
        },
        "id": "k3UVUDUUW7oh",
        "outputId": "9eebbed9-b898-4ec4-ef93-4cc35c3cd5a4"
      },
      "execution_count": 20,
      "outputs": [
        {
          "output_type": "stream",
          "name": "stdout",
          "text": [
            "7\n"
          ]
        }
      ]
    },
    {
      "cell_type": "code",
      "source": [
        "user_string = input(\"Enter a string: \")\n",
        "user_number = int(input(\"Enter a number: \"))\n",
        "print(user_string * user_number)"
      ],
      "metadata": {
        "colab": {
          "base_uri": "https://localhost:8080/"
        },
        "id": "qHmP3hw1Y6Vs",
        "outputId": "2f560469-f609-4c54-8eaa-dddeec59a388"
      },
      "execution_count": 3,
      "outputs": [
        {
          "output_type": "stream",
          "name": "stdout",
          "text": [
            "Enter a string: dhfjkadf\n",
            "Enter a number: 3\n",
            "dhfjkadfdhfjkadfdhfjkadf\n"
          ]
        }
      ]
    },
    {
      "cell_type": "code",
      "source": [
        "sentence = \"Coding is fun and easy to learn!.\"\n",
        "word_list = sentence.split()\n",
        "print(word_list)"
      ],
      "metadata": {
        "colab": {
          "base_uri": "https://localhost:8080/"
        },
        "id": "Dg5IY44PZsQR",
        "outputId": "7fc0be9c-18a3-4825-e804-f7f0509be449"
      },
      "execution_count": 5,
      "outputs": [
        {
          "output_type": "stream",
          "name": "stdout",
          "text": [
            "['Coding', 'is', 'fun', 'and', 'easy', 'to', 'learn!.']\n"
          ]
        }
      ]
    },
    {
      "cell_type": "code",
      "source": [
        "text = \"Coding is Exciting!\"\n",
        "\n",
        "uppercase_text = text.upper()\n",
        "lowercase_text = text.lower()\n",
        "print(\"Uppercase text:\", uppercase_text)\n",
        "print(\"Lowercase text:\", lowercase_text)"
      ],
      "metadata": {
        "colab": {
          "base_uri": "https://localhost:8080/"
        },
        "id": "FLcsy4L7Z7I1",
        "outputId": "a1ab737f-d522-448a-9756-0cc1b7800698"
      },
      "execution_count": 8,
      "outputs": [
        {
          "output_type": "stream",
          "name": "stdout",
          "text": [
            "Uppercase text: CODING IS EXCITING!\n",
            "Lowercase text: coding is exciting!\n"
          ]
        }
      ]
    },
    {
      "cell_type": "code",
      "source": [
        "text = \"Hello, world!\"\n",
        "print(\"First character:\", text[0])\n",
        "print(\"Last character:\", text[-1])\n",
        "print(\"First 5 characters:\", text[:5])\n",
        "print(\"Characters from position 5 to end:\", text[5:])\n",
        "print(\"Reverse order:\", text[::-1])"
      ],
      "metadata": {
        "colab": {
          "base_uri": "https://localhost:8080/"
        },
        "id": "CsU_ZCGuagDX",
        "outputId": "5b93c62c-b0da-4d8d-ab9d-4f37dd629698"
      },
      "execution_count": 9,
      "outputs": [
        {
          "output_type": "stream",
          "name": "stdout",
          "text": [
            "First character: H\n",
            "Last character: !\n",
            "First 5 characters: Hello\n",
            "Characters from position 5 to end: , world!\n",
            "Reverse order: !dlrow ,olleH\n"
          ]
        }
      ]
    }
  ]
}