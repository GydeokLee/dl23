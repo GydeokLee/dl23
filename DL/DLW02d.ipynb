{
  "nbformat": 4,
  "nbformat_minor": 0,
  "metadata": {
    "colab": {
      "provenance": [],
      "include_colab_link": true
    },
    "kernelspec": {
      "name": "python3",
      "display_name": "Python 3"
    },
    "language_info": {
      "name": "python"
    }
  },
  "cells": [
    {
      "cell_type": "markdown",
      "metadata": {
        "id": "view-in-github",
        "colab_type": "text"
      },
      "source": [
        "<a href=\"https://colab.research.google.com/github/GydeokLee/dl23/blob/main/DL/DLW02d.ipynb\" target=\"_parent\"><img src=\"https://colab.research.google.com/assets/colab-badge.svg\" alt=\"Open In Colab\"/></a>"
      ]
    },
    {
      "cell_type": "markdown",
      "source": [
        "---\n",
        "# 📗 Topic [2]: Coding basic #2\n",
        "---\n",
        "Keywords:\n",
        "\n",
        "+ variables\n",
        "+ **operators**\n",
        "+ **data types: list and dictionary**"
      ],
      "metadata": {
        "id": "k4A5_MYHpcNQ"
      }
    },
    {
      "cell_type": "markdown",
      "source": [
        "Your github IDs [here](https://docs.google.com/spreadsheets/d/17SX51lCqOdtvC7cAGoX5tP9fKwVdGY5sRzMg2pXh9uk/edit#gid=0) - revised 0327"
      ],
      "metadata": {
        "id": "mUVgzk50XMkt"
      }
    },
    {
      "cell_type": "markdown",
      "source": [
        "## [1] Variables"
      ],
      "metadata": {
        "id": "93gQaEo1RX63"
      }
    },
    {
      "cell_type": "markdown",
      "source": [
        "+ **A variable** is a named storage location that holds a value.\n",
        "+ Variables can be used **to store values** such as numbers, strings, lists, or other data types. \n",
        "+ The value of a variable can change throughout the execution of a program. \n",
        "+ To declare a variable in Python, you need to assign a value to it using the **equal (=) sign.**"
      ],
      "metadata": {
        "id": "jJT4hD1teuJr"
      }
    },
    {
      "cell_type": "code",
      "source": [
        "x = 10\n",
        "y = \"Hello, class!\"\n",
        "z = [1, 2, 3]"
      ],
      "metadata": {
        "id": "Xes87bY2X45M"
      },
      "execution_count": null,
      "outputs": []
    },
    {
      "cell_type": "markdown",
      "source": [
        "↗️ In the above example, 'x' is assigned the value of 10, 'y' is assigned the value of \"Hello, World!\", and 'z' is assigned the value of [1, 2, 3]."
      ],
      "metadata": {
        "id": "ulw6QsP5ZiKp"
      }
    },
    {
      "cell_type": "code",
      "source": [
        "# We can assign a link or a function\n",
        "import pandas as pd\n",
        "url = \"https://github.com/MK316/Spring2023/raw/main/data/att_sample.csv\"\n",
        "data = pd.read_csv(url)\n",
        "data"
      ],
      "metadata": {
        "id": "_7bvpJt2aQmg"
      },
      "execution_count": null,
      "outputs": []
    },
    {
      "cell_type": "markdown",
      "source": [
        "## Commenting '#'\n",
        "\n",
        "- In Python, the # symbol is used to indicate comment lines. A comment is a line of text in a code that is ignored by the Python interpreter and is used to provide explanations or notes for the reader of the code.\n",
        "\n",
        "## Uncommenting shortcut: \n",
        "* \"Ctrl + /\" (Place the cursor on the code line and press the Control + / key.)"
      ],
      "metadata": {
        "id": "xZv9R8I8ZWvt"
      }
    },
    {
      "cell_type": "code",
      "source": [
        "# This is a comment in Python\n",
        "x = 10 # this is also a comment"
      ],
      "metadata": {
        "id": "7UJmbmmTaFx9"
      },
      "execution_count": null,
      "outputs": []
    },
    {
      "cell_type": "code",
      "source": [
        "x1 = x * 10\n",
        "x2 = x + 5\n",
        "\n",
        "print(X1) # Print the value of x1\n",
        "print(x1, x2) # Print the values of x1 and x2"
      ],
      "metadata": {
        "id": "Ivc72tB0X_TS"
      },
      "execution_count": null,
      "outputs": []
    },
    {
      "cell_type": "code",
      "source": [
        "y1 = y + \"Welcome to the class.\"\n",
        "z1 = z + [3,2,1]\n",
        " \n",
        "print(y1, z1)"
      ],
      "metadata": {
        "id": "cxePqv-52RU0"
      },
      "execution_count": null,
      "outputs": []
    },
    {
      "cell_type": "markdown",
      "source": [
        "Input types:\n",
        "\n",
        "* integer: e.g., -3, 1, 0, 234, etc.\n",
        "* float: e.g., -3.0, 1.2, 0, 3.141592653589793238, etc.\n",
        "* string: (characters) \"1\", '0', \"3.29\", \"Mary\", \"euphoria\", 'My name is Jane.'\n",
        "\n",
        "_Note:_ double or single quotation marks denote **string** data. (Open and close should match.)"
      ],
      "metadata": {
        "id": "4zDbyBHbeQsq"
      }
    },
    {
      "cell_type": "code",
      "source": [
        "# DIY\n",
        "x = 1\n",
        "y = 3\n",
        "z = x + y\n",
        "print(z)\n",
        "\n",
        "x1 = \"1\"\n",
        "y1 = \"3\"\n",
        "z1 = x1 + y1\n",
        "print(z1)"
      ],
      "metadata": {
        "colab": {
          "base_uri": "https://localhost:8080/"
        },
        "id": "yzZuC29QfP3T",
        "outputId": "24dae7df-6759-4607-90b0-9db72f242dd4"
      },
      "execution_count": null,
      "outputs": [
        {
          "output_type": "stream",
          "name": "stdout",
          "text": [
            "4\n",
            "13\n"
          ]
        }
      ]
    },
    {
      "cell_type": "code",
      "source": [
        "type(z)"
      ],
      "metadata": {
        "colab": {
          "base_uri": "https://localhost:8080/"
        },
        "id": "qwDb8cf5fkKi",
        "outputId": "1a9a234e-e619-47f3-ff13-9646163303f0"
      },
      "execution_count": null,
      "outputs": [
        {
          "output_type": "execute_result",
          "data": {
            "text/plain": [
              "int"
            ]
          },
          "metadata": {},
          "execution_count": 7
        }
      ]
    },
    {
      "cell_type": "code",
      "source": [
        "type(z1)"
      ],
      "metadata": {
        "colab": {
          "base_uri": "https://localhost:8080/"
        },
        "id": "L7sxvSaOfsOt",
        "outputId": "b74b232d-a615-486b-9cb5-618a6e3480e4"
      },
      "execution_count": null,
      "outputs": [
        {
          "output_type": "execute_result",
          "data": {
            "text/plain": [
              "str"
            ]
          },
          "metadata": {},
          "execution_count": 8
        }
      ]
    },
    {
      "cell_type": "code",
      "source": [
        "print(type(z), type(z1))"
      ],
      "metadata": {
        "colab": {
          "base_uri": "https://localhost:8080/"
        },
        "id": "bbFaL_GWfwMH",
        "outputId": "7f4e3965-e83a-4b24-9780-34d04e1a5305"
      },
      "execution_count": null,
      "outputs": [
        {
          "output_type": "stream",
          "name": "stdout",
          "text": [
            "<class 'int'> <class 'str'>\n"
          ]
        }
      ]
    },
    {
      "cell_type": "markdown",
      "source": [
        "## [2] Operators\n",
        "\n",
        "* Symbols that perform operations on values and variables. \n",
        "* They are used to perform arithmetic and logical operations, and they can also be used to manipulate and compare values. "
      ],
      "metadata": {
        "id": "5JgA2T2dRft5"
      }
    },
    {
      "cell_type": "markdown",
      "source": [
        "1. Arithmetic Operators: +, -, *, /, %, ** (for exponentiation)\n",
        "2. semicolon ';' - separate multiple statements (code lines) on a single line."
      ],
      "metadata": {
        "id": "NJBgu_O4bczL"
      }
    },
    {
      "cell_type": "code",
      "source": [
        "x = 2; y = 5\n",
        "\n",
        "a1 = x + y\n",
        "a2 = x - y\n",
        "a3 = x * y\n",
        "a4 = x / y\n",
        "a5 = x ** y"
      ],
      "metadata": {
        "id": "dXT3pIzobUHU"
      },
      "execution_count": null,
      "outputs": []
    },
    {
      "cell_type": "code",
      "source": [
        "print(a1, a2, a3, a4, a5)"
      ],
      "metadata": {
        "colab": {
          "base_uri": "https://localhost:8080/"
        },
        "id": "_m3JBsOKd6Uv",
        "outputId": "5d2b70ad-cd95-4e22-ab6c-272fe94c8559"
      },
      "execution_count": null,
      "outputs": [
        {
          "output_type": "stream",
          "name": "stdout",
          "text": [
            "7 -3 10 0.4 32\n"
          ]
        }
      ]
    },
    {
      "cell_type": "code",
      "source": [
        "print(\"The value of a1:\", a1)"
      ],
      "metadata": {
        "colab": {
          "base_uri": "https://localhost:8080/"
        },
        "id": "5kq7I3nMd0Xi",
        "outputId": "d2b23cf4-6ce2-4cb8-809d-97db736c82bb"
      },
      "execution_count": null,
      "outputs": [
        {
          "output_type": "stream",
          "name": "stdout",
          "text": [
            "The value of a1: 7\n"
          ]
        }
      ]
    },
    {
      "cell_type": "markdown",
      "source": [
        "# 🌱 Define a function\n",
        "\n",
        "Demo 🔢 Calculator"
      ],
      "metadata": {
        "id": "Cx1NyWUAybc8"
      }
    },
    {
      "cell_type": "code",
      "source": [
        "# This function adds two numbers\n",
        "def add(x, y):\n",
        "    return x + y\n",
        "\n",
        "# This function subtracts two numbers\n",
        "def subtract(x, y):\n",
        "    return x - y\n",
        "\n",
        "# This function multiplies two numbers\n",
        "def multiply(x, y):\n",
        "    return x * y\n",
        "\n",
        "# This function divides two numbers\n",
        "def divide(x, y):\n",
        "    return x / y\n"
      ],
      "metadata": {
        "id": "Dod3_zgYdsWe"
      },
      "execution_count": null,
      "outputs": []
    },
    {
      "cell_type": "code",
      "source": [
        "# DIY: define a function names switch(x, y), where the input x, y changes its position in the output."
      ],
      "metadata": {
        "id": "W9CuAaqXgwb5"
      },
      "execution_count": null,
      "outputs": []
    },
    {
      "cell_type": "code",
      "source": [
        "# Test\n",
        "\n",
        "add(2,3)\n",
        "# subtract(3,2)\n",
        "# multiply(2,3)\n",
        "# divide(3,2)"
      ],
      "metadata": {
        "id": "IoHh-U2GBsqH",
        "outputId": "10510e9c-1408-4824-aad6-a6c9a96a0ea2",
        "colab": {
          "base_uri": "https://localhost:8080/"
        }
      },
      "execution_count": null,
      "outputs": [
        {
          "output_type": "execute_result",
          "data": {
            "text/plain": [
              "5"
            ]
          },
          "metadata": {},
          "execution_count": 3
        }
      ]
    },
    {
      "cell_type": "markdown",
      "source": [
        "## Using dropbox format"
      ],
      "metadata": {
        "id": "eOluPoNqCCE1"
      }
    },
    {
      "cell_type": "code",
      "source": [
        "!pip install gTTS\n",
        "from gtts import gTTS"
      ],
      "metadata": {
        "id": "elgswTSCOGdS",
        "outputId": "309b6342-3fa7-4c63-9647-c665ebc33a6e",
        "colab": {
          "base_uri": "https://localhost:8080/"
        }
      },
      "execution_count": 49,
      "outputs": [
        {
          "output_type": "stream",
          "name": "stdout",
          "text": [
            "Looking in indexes: https://pypi.org/simple, https://us-python.pkg.dev/colab-wheels/public/simple/\n",
            "Collecting gTTS\n",
            "  Downloading gTTS-2.3.1-py3-none-any.whl (28 kB)\n",
            "Requirement already satisfied: click<8.2,>=7.1 in /usr/local/lib/python3.9/dist-packages (from gTTS) (8.1.3)\n",
            "Requirement already satisfied: requests<3,>=2.27 in /usr/local/lib/python3.9/dist-packages (from gTTS) (2.27.1)\n",
            "Requirement already satisfied: urllib3<1.27,>=1.21.1 in /usr/local/lib/python3.9/dist-packages (from requests<3,>=2.27->gTTS) (1.26.15)\n",
            "Requirement already satisfied: certifi>=2017.4.17 in /usr/local/lib/python3.9/dist-packages (from requests<3,>=2.27->gTTS) (2022.12.7)\n",
            "Requirement already satisfied: charset-normalizer~=2.0.0 in /usr/local/lib/python3.9/dist-packages (from requests<3,>=2.27->gTTS) (2.0.12)\n",
            "Requirement already satisfied: idna<4,>=2.5 in /usr/local/lib/python3.9/dist-packages (from requests<3,>=2.27->gTTS) (3.4)\n",
            "Installing collected packages: gTTS\n",
            "Successfully installed gTTS-2.3.1\n"
          ]
        }
      ]
    },
    {
      "cell_type": "code",
      "source": [
        "from IPython.display import Audio\n"
      ],
      "metadata": {
        "id": "omJSr_ccOMbj"
      },
      "execution_count": 50,
      "outputs": []
    },
    {
      "cell_type": "code",
      "source": [
        "def tts(text):\n",
        "  gtts_object = gTTS(text,lang = \"en\", slow = True) \n",
        "  gtts_object.save(\"myaudio.mp3\")\n",
        "  return Audio(\"myaudio.mp3\")"
      ],
      "metadata": {
        "id": "6CdTIU_AOFib"
      },
      "execution_count": 51,
      "outputs": []
    },
    {
      "cell_type": "code",
      "source": [
        "func = \"subtract\" #@param = [\"add\",\"subtract\",\"multiply\",\"divide\"]\n",
        "digits = input(\"Type two numbers: (e.g., 3,4)\")\n",
        "digitsplit = digits.split(',')\n",
        "d1 = int(digitsplit[0])\n",
        "d2 = int(digitsplit[1])\n",
        "\n",
        "if func == \"add\":\n",
        "  result = add(d1,d2)\n",
        "  text = \"The addition of %d and %d equals %d.\"%(d1,d2,result)\n",
        "elif func == \"subtract\":\n",
        "  result = subtract(d1,d2)\n",
        "  text = \"If you subtract %d from %d, you get %d.\"%(d2,d1,result)\n",
        "elif func == \"divide\":\n",
        "  result = divide(d1,d2)\n",
        "  text = \"When you divide %d by %d, you get %d.\"%(d1,d2,result)\n",
        "elif func == \"multiply\":\n",
        "  result = multiply(d1,d2)\n",
        "  text = \"%d multiplied by %d is %d.\"%(d1,d2,result)\n",
        "\n",
        "print(text)\n",
        "tts(text)\n",
        "Audio(\"myaudio.mp3\")\n"
      ],
      "metadata": {
        "id": "FT47bY6qBo3k",
        "outputId": "4b6326ef-c4d7-47c9-8de0-9ba13fbda479",
        "colab": {
          "base_uri": "https://localhost:8080/",
          "height": 111
        }
      },
      "execution_count": 53,
      "outputs": [
        {
          "output_type": "stream",
          "name": "stdout",
          "text": [
            "Type two numbers: (e.g., 3,4)24,7\n",
            "If you subtract 7 from 24, you get 17.\n"
          ]
        },
        {
          "output_type": "execute_result",
          "data": {
            "text/plain": [
              "<IPython.lib.display.Audio object>"
            ],
            "text/html": [
              "\n",
              "                <audio  controls=\"controls\" >\n",
              "                    <source src=\"data:audio/mpeg;base64,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\" type=\"audio/mpeg\" />\n",
              "                    Your browser does not support the audio element.\n",
              "                </audio>\n",
              "              "
            ]
          },
          "metadata": {},
          "execution_count": 53
        }
      ]
    },
    {
      "cell_type": "markdown",
      "source": [
        "More operators: <br>\n",
        "* Comparison Operators: ==, !=, <, >, <=, >= <br>\n",
        "* Assignment Operators: =, +=, -=, *=, /=, %= <br>\n",
        "* Logical Operators: and, or, not <br>\n",
        "* Identity Operators: is, is not <br>\n",
        "* Membership Operators: in, not in "
      ],
      "metadata": {
        "id": "sfubu24UbqjH"
      }
    },
    {
      "cell_type": "markdown",
      "source": [
        "# 📗Topic [3] Data types: number, string, list and dictionary\n"
      ],
      "metadata": {
        "id": "3eSrUoglRh6-"
      }
    },
    {
      "cell_type": "markdown",
      "source": [
        "\n",
        "|Data type| |\n",
        "|:--:|:--:|\n",
        "|number|int, float|\n",
        "|string|charcter|\n",
        "|list|[1, 2,4], ['Mary','Tom','Jane'|\n",
        "|dictionary|(key: value), [('English': 80), ('Korean':90)]|\n",
        "|tuple|('zero', 0)|\n"
      ],
      "metadata": {
        "id": "ZVFb5JmJrPXu"
      }
    },
    {
      "cell_type": "code",
      "source": [
        "a1 = 3   # a1 is integer\n",
        "a2 = 3.0 # a2 is float\n",
        "a3 = \"3\" # a3 is string\n",
        "\n",
        "type(a1); type(a2); type(a3)\n",
        "# print(type(a1), type(a2), type(a3))"
      ],
      "metadata": {
        "colab": {
          "base_uri": "https://localhost:8080/"
        },
        "id": "g-kvldqENA1e",
        "outputId": "208785c5-ca85-45d0-e973-96f62055de1b"
      },
      "execution_count": 54,
      "outputs": [
        {
          "output_type": "execute_result",
          "data": {
            "text/plain": [
              "str"
            ]
          },
          "metadata": {},
          "execution_count": 54
        }
      ]
    },
    {
      "cell_type": "markdown",
      "source": [
        "list and index (0, 1, 2,...)"
      ],
      "metadata": {
        "id": "HC_wMsPnNbzs"
      }
    },
    {
      "cell_type": "code",
      "source": [
        "a = [1, \"Mary\", 4, \"John\"]  # This is a list.\n",
        "print(type(a))\n",
        "\n",
        "# a+a"
      ],
      "metadata": {
        "colab": {
          "base_uri": "https://localhost:8080/"
        },
        "id": "LyTw7phONZHE",
        "outputId": "6b4985d0-d21f-4cc5-cb05-1c71fd0064c2"
      },
      "execution_count": 55,
      "outputs": [
        {
          "output_type": "stream",
          "name": "stdout",
          "text": [
            "<class 'list'>\n"
          ]
        }
      ]
    },
    {
      "cell_type": "markdown",
      "source": [
        "* index: Python index starts from '0'\n",
        "\n",
        "e.g., a = [1, 2, 3, 4]"
      ],
      "metadata": {
        "id": "-fL-pJvj7NW8"
      }
    },
    {
      "cell_type": "code",
      "source": [
        "a[0]\n",
        "type(a[0])\n",
        "type(a[1])\n",
        "a[0] + a[2]\n",
        "a[0] + a[1]\n"
      ],
      "metadata": {
        "id": "9Z5zLDGc7X13",
        "outputId": "3211dfe0-fab8-4df6-c687-d8e2c6f0265f",
        "colab": {
          "base_uri": "https://localhost:8080/",
          "height": 211
        }
      },
      "execution_count": 62,
      "outputs": [
        {
          "output_type": "error",
          "ename": "TypeError",
          "evalue": "ignored",
          "traceback": [
            "\u001b[0;31m---------------------------------------------------------------------------\u001b[0m",
            "\u001b[0;31mTypeError\u001b[0m                                 Traceback (most recent call last)",
            "\u001b[0;32m<ipython-input-62-7c2a495ff754>\u001b[0m in \u001b[0;36m<module>\u001b[0;34m\u001b[0m\n\u001b[1;32m      3\u001b[0m \u001b[0mtype\u001b[0m\u001b[0;34m(\u001b[0m\u001b[0ma\u001b[0m\u001b[0;34m[\u001b[0m\u001b[0;36m1\u001b[0m\u001b[0;34m]\u001b[0m\u001b[0;34m)\u001b[0m\u001b[0;34m\u001b[0m\u001b[0;34m\u001b[0m\u001b[0m\n\u001b[1;32m      4\u001b[0m \u001b[0ma\u001b[0m\u001b[0;34m[\u001b[0m\u001b[0;36m0\u001b[0m\u001b[0;34m]\u001b[0m \u001b[0;34m+\u001b[0m \u001b[0ma\u001b[0m\u001b[0;34m[\u001b[0m\u001b[0;36m2\u001b[0m\u001b[0;34m]\u001b[0m\u001b[0;34m\u001b[0m\u001b[0;34m\u001b[0m\u001b[0m\n\u001b[0;32m----> 5\u001b[0;31m \u001b[0ma\u001b[0m\u001b[0;34m[\u001b[0m\u001b[0;36m0\u001b[0m\u001b[0;34m]\u001b[0m \u001b[0;34m+\u001b[0m \u001b[0ma\u001b[0m\u001b[0;34m[\u001b[0m\u001b[0;36m1\u001b[0m\u001b[0;34m]\u001b[0m\u001b[0;34m\u001b[0m\u001b[0;34m\u001b[0m\u001b[0m\n\u001b[0m",
            "\u001b[0;31mTypeError\u001b[0m: unsupported operand type(s) for +: 'int' and 'str'"
          ]
        }
      ]
    },
    {
      "cell_type": "markdown",
      "source": [
        "[Github accounts](https://raw.githubusercontent.com/MK316/Spring2023/main/DL/files/DL_github.csv)"
      ],
      "metadata": {
        "id": "S-KG49Zaim0S"
      }
    },
    {
      "cell_type": "markdown",
      "source": [
        "\n",
        "\n",
        "---\n",
        "# The End\n"
      ],
      "metadata": {
        "id": "3cZjH9xIiN4_"
      }
    }
  ]
}